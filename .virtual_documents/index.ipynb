














# Run this cell without changes
import pandas as pd
import matplotlib.pyplot as plt
import numpy as np
%matplotlib inline


# Run this cell without changes
df = pd.read_csv("data/case_study.csv", index_col=0, low_memory=False)
df





# Run this cell without changes
df['PHYSHLTH'].describe()


# Run this cell without changes
fig, ax = plt.subplots()
ax.hist(df["PHYSHLTH"], bins="auto")
ax.set_xlabel("PHYSHLTH")
ax.set_ylabel("Count")
ax.set_title("Distribution of PHYSHLTH in Raw Data");





# Replace None with appropriate text
"""
The minimum is supposed to be 0 while the maximum is supposed to be 30, yet we have values that are in the 70s-100s range.
"""





df['PHYSHLTH'].value_counts()


# Your code here
df.loc[df['PHYSHLTH'] == 88, 'PHYSHLTH'] = 0

df = df[df["PHYSHLTH"] <= 30].copy()





# Run this cell without changes

# We should have fewer rows, the same number of columns
assert df.shape == (33747, 358)

# The maximum value in this column should now be 30
assert df["PHYSHLTH"].max() == 30.0





# Run this cell without changes
df['PHYSHLTH'].describe()


# Run this cell without changes
fig, ax = plt.subplots()
ax.hist(df["PHYSHLTH"])
ax.set_xlabel("PHYSHLTH")
ax.set_ylabel("Count")
ax.set_title("Distribution of PHYSHLTH in Cleaned Data");








# Run this cell without changes
df["_STATE"].value_counts()





# Your code here
df["_STATE"].replace({34: "New Jersey",36 : "New York",9: "Connecticut"}, inplace=True)





# Run this cell without changes

# Shape should be the same
assert df.shape == (33747, 358)

# Values in state column should be changed
assert sorted(list(df["_STATE"].value_counts().index)) == ['Connecticut', 'New Jersey', 'New York']


# Run this cell without changes

ny = df.loc[df["_STATE"] == "New York", "PHYSHLTH"]
nj = df.loc[df["_STATE"] == "New Jersey", "PHYSHLTH"]
ct = df.loc[df["_STATE"] == "Connecticut", "PHYSHLTH"]

fig, ax = plt.subplots(figsize=(15, 6))

ax.hist(
    x=[ny, nj, ct],
    label=["New York", "New Jersey", "Connecticut"],
    bins=range(32),
    align="left"
)

ax.set_xlabel("PHYSHLTH")
ax.set_ylabel("Count")
ax.set_title("Distribution of PHYSHLTH by State")

ax.legend(title="State");





# Replace None with appropriate text
"""
Visually, the distribution does not seem to differ by state.
"""





# Run this cell without changes
df.groupby("_STATE")["PHYSHLTH"].mean()








# Replace None with appropriate text
"""
None
"""





# Replace None with appropriate text
"""
None
"""





# Run this cell without changes
import statsmodels.api as sm
from statsmodels.formula.api import ols

formula = 'PHYSHLTH ~ C(_STATE)'
lm = ols(formula, df).fit()
sm.stats.anova_lm(lm)





# Replace None with appropriate text
"""
None
"""








# Run this cell without changes
df["RENTHOM1"].value_counts()





# Your code here


# Run this cell without changes
df["RENTHOM1"].value_counts()





# Run this cell without changes

# Number of rows should be smaller again
assert df.shape == (31934, 358)

# Only two values should be present in this column
assert sorted(list(df["RENTHOM1"].value_counts().index)) == ['Own', 'Rent']





# Your code here





# Run this cell without changes
df.groupby("RENTHOM1")["PHYSHLTH"].mean()





# Replace None with appropriate text
"""
None
"""





# Your code here (create additional cells as needed)





# Your code here

# Look at the distribution of values
df["NICOTINE_USE"].value_counts(normalize=True)





# Your code here

# View the distribution of the newly-created column
df["CHRONIC"].value_counts()





# Run this cell without changes
contingency_table = pd.crosstab(index=df["CHRONIC"], columns=df["NICOTINE_USE"])
contingency_table


# Run this cell without changes

no_nicotine_use = df.loc[df["NICOTINE_USE"] == 0, "CHRONIC"]
nicotine_use = df.loc[df["NICOTINE_USE"] == 1, "CHRONIC"]

fig, ax = plt.subplots()

ax.hist(
    x=[no_nicotine_use, nicotine_use],
    label=["No Nicotine Use", "Nicotine Use"],
    bins=[0,1,2],
    align="left"
)

ax.set_ylabel("Count")
ax.set_xticks([0,1])
ax.set_xticklabels(["Not Chronically Sick", "Chronically Sick"])
ax.set_title("Distribution of Chronic Sickness by Nicotine Use")

ax.legend();





# Your code here (create additional cells as needed)





# Your code here (create additional cells as needed)



